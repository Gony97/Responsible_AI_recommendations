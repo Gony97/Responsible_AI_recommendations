{
 "cells": [
  {
   "cell_type": "code",
   "execution_count": 33,
   "id": "c4d6a753",
   "metadata": {},
   "outputs": [],
   "source": [
    "import pandas as pd\n",
    "from zipfile import ZipFile\n",
    "import numpy as np\n",
    "import seaborn as sns\n",
    "from matplotlib import pyplot as plt"
   ]
  },
  {
   "cell_type": "markdown",
   "id": "e08f446e",
   "metadata": {},
   "source": [
    "### Load Data:"
   ]
  },
  {
   "cell_type": "code",
   "execution_count": 28,
   "id": "7389f356",
   "metadata": {},
   "outputs": [],
   "source": [
    "# update releavent path\n",
    "path = 'C:/Users/gony/Downloads/MINDsmall_train.zip'"
   ]
  },
  {
   "cell_type": "code",
   "execution_count": 4,
   "id": "d93a401b",
   "metadata": {},
   "outputs": [
    {
     "name": "stdout",
     "output_type": "stream",
     "text": [
      "behaviors.tsv\n",
      "news.tsv\n"
     ]
    }
   ],
   "source": [
    "dfs = {}\n",
    "with ZipFile(path, \"r\") as f:\n",
    "    for name in f.namelist():\n",
    "        if name.endswith('.tsv'):\n",
    "            with f.open(name) as zd:\n",
    "                if name == 'news.tsv':\n",
    "                    columns = ['News ID',\n",
    "                                \"Category\",\n",
    "                                \"SubCategory\",\n",
    "                                \"Title\",\n",
    "                                \"Abstract\",\n",
    "                                \"URL\",\n",
    "                                \"Title Entities\",\n",
    "                                \"Abstract Entities \"]\n",
    "                elif name == 'behaviors.tsv':\n",
    "                    columns = ['Impression ID',\n",
    "                              'User ID',\n",
    "                              'Time',\n",
    "                              'History',\n",
    "                              'impressions']\n",
    "                print(name)\n",
    "                df = pd.read_csv(zd, encoding='utf8', sep = '\\t', \n",
    "                                 header=None, names=columns)\n",
    "                dfs[name] = df\n",
    "behaviors = dfs[\"behaviors.tsv\"]\n",
    "news = dfs['news.tsv']"
   ]
  },
  {
   "cell_type": "code",
   "execution_count": 5,
   "id": "63e15e90",
   "metadata": {},
   "outputs": [
    {
     "data": {
      "text/html": [
       "<div>\n",
       "<style scoped>\n",
       "    .dataframe tbody tr th:only-of-type {\n",
       "        vertical-align: middle;\n",
       "    }\n",
       "\n",
       "    .dataframe tbody tr th {\n",
       "        vertical-align: top;\n",
       "    }\n",
       "\n",
       "    .dataframe thead th {\n",
       "        text-align: right;\n",
       "    }\n",
       "</style>\n",
       "<table border=\"1\" class=\"dataframe\">\n",
       "  <thead>\n",
       "    <tr style=\"text-align: right;\">\n",
       "      <th></th>\n",
       "      <th>News ID</th>\n",
       "      <th>Category</th>\n",
       "      <th>SubCategory</th>\n",
       "      <th>Title</th>\n",
       "      <th>Abstract</th>\n",
       "      <th>URL</th>\n",
       "      <th>Title Entities</th>\n",
       "      <th>Abstract Entities</th>\n",
       "    </tr>\n",
       "  </thead>\n",
       "  <tbody>\n",
       "    <tr>\n",
       "      <th>0</th>\n",
       "      <td>N55528</td>\n",
       "      <td>lifestyle</td>\n",
       "      <td>lifestyleroyals</td>\n",
       "      <td>The Brands Queen Elizabeth, Prince Charles, an...</td>\n",
       "      <td>Shop the notebooks, jackets, and more that the...</td>\n",
       "      <td>https://assets.msn.com/labs/mind/AAGH0ET.html</td>\n",
       "      <td>[{\"Label\": \"Prince Philip, Duke of Edinburgh\",...</td>\n",
       "      <td>[]</td>\n",
       "    </tr>\n",
       "    <tr>\n",
       "      <th>1</th>\n",
       "      <td>N19639</td>\n",
       "      <td>health</td>\n",
       "      <td>weightloss</td>\n",
       "      <td>50 Worst Habits For Belly Fat</td>\n",
       "      <td>These seemingly harmless habits are holding yo...</td>\n",
       "      <td>https://assets.msn.com/labs/mind/AAB19MK.html</td>\n",
       "      <td>[{\"Label\": \"Adipose tissue\", \"Type\": \"C\", \"Wik...</td>\n",
       "      <td>[{\"Label\": \"Adipose tissue\", \"Type\": \"C\", \"Wik...</td>\n",
       "    </tr>\n",
       "    <tr>\n",
       "      <th>2</th>\n",
       "      <td>N61837</td>\n",
       "      <td>news</td>\n",
       "      <td>newsworld</td>\n",
       "      <td>The Cost of Trump's Aid Freeze in the Trenches...</td>\n",
       "      <td>Lt. Ivan Molchanets peeked over a parapet of s...</td>\n",
       "      <td>https://assets.msn.com/labs/mind/AAJgNsz.html</td>\n",
       "      <td>[]</td>\n",
       "      <td>[{\"Label\": \"Ukraine\", \"Type\": \"G\", \"WikidataId...</td>\n",
       "    </tr>\n",
       "    <tr>\n",
       "      <th>3</th>\n",
       "      <td>N53526</td>\n",
       "      <td>health</td>\n",
       "      <td>voices</td>\n",
       "      <td>I Was An NBA Wife. Here's How It Affected My M...</td>\n",
       "      <td>I felt like I was a fraud, and being an NBA wi...</td>\n",
       "      <td>https://assets.msn.com/labs/mind/AACk2N6.html</td>\n",
       "      <td>[]</td>\n",
       "      <td>[{\"Label\": \"National Basketball Association\", ...</td>\n",
       "    </tr>\n",
       "    <tr>\n",
       "      <th>4</th>\n",
       "      <td>N38324</td>\n",
       "      <td>health</td>\n",
       "      <td>medical</td>\n",
       "      <td>How to Get Rid of Skin Tags, According to a De...</td>\n",
       "      <td>They seem harmless, but there's a very good re...</td>\n",
       "      <td>https://assets.msn.com/labs/mind/AAAKEkt.html</td>\n",
       "      <td>[{\"Label\": \"Skin tag\", \"Type\": \"C\", \"WikidataI...</td>\n",
       "      <td>[{\"Label\": \"Skin tag\", \"Type\": \"C\", \"WikidataI...</td>\n",
       "    </tr>\n",
       "  </tbody>\n",
       "</table>\n",
       "</div>"
      ],
      "text/plain": [
       "  News ID   Category      SubCategory  \\\n",
       "0  N55528  lifestyle  lifestyleroyals   \n",
       "1  N19639     health       weightloss   \n",
       "2  N61837       news        newsworld   \n",
       "3  N53526     health           voices   \n",
       "4  N38324     health          medical   \n",
       "\n",
       "                                               Title  \\\n",
       "0  The Brands Queen Elizabeth, Prince Charles, an...   \n",
       "1                      50 Worst Habits For Belly Fat   \n",
       "2  The Cost of Trump's Aid Freeze in the Trenches...   \n",
       "3  I Was An NBA Wife. Here's How It Affected My M...   \n",
       "4  How to Get Rid of Skin Tags, According to a De...   \n",
       "\n",
       "                                            Abstract  \\\n",
       "0  Shop the notebooks, jackets, and more that the...   \n",
       "1  These seemingly harmless habits are holding yo...   \n",
       "2  Lt. Ivan Molchanets peeked over a parapet of s...   \n",
       "3  I felt like I was a fraud, and being an NBA wi...   \n",
       "4  They seem harmless, but there's a very good re...   \n",
       "\n",
       "                                             URL  \\\n",
       "0  https://assets.msn.com/labs/mind/AAGH0ET.html   \n",
       "1  https://assets.msn.com/labs/mind/AAB19MK.html   \n",
       "2  https://assets.msn.com/labs/mind/AAJgNsz.html   \n",
       "3  https://assets.msn.com/labs/mind/AACk2N6.html   \n",
       "4  https://assets.msn.com/labs/mind/AAAKEkt.html   \n",
       "\n",
       "                                      Title Entities  \\\n",
       "0  [{\"Label\": \"Prince Philip, Duke of Edinburgh\",...   \n",
       "1  [{\"Label\": \"Adipose tissue\", \"Type\": \"C\", \"Wik...   \n",
       "2                                                 []   \n",
       "3                                                 []   \n",
       "4  [{\"Label\": \"Skin tag\", \"Type\": \"C\", \"WikidataI...   \n",
       "\n",
       "                                  Abstract Entities   \n",
       "0                                                 []  \n",
       "1  [{\"Label\": \"Adipose tissue\", \"Type\": \"C\", \"Wik...  \n",
       "2  [{\"Label\": \"Ukraine\", \"Type\": \"G\", \"WikidataId...  \n",
       "3  [{\"Label\": \"National Basketball Association\", ...  \n",
       "4  [{\"Label\": \"Skin tag\", \"Type\": \"C\", \"WikidataI...  "
      ]
     },
     "execution_count": 5,
     "metadata": {},
     "output_type": "execute_result"
    }
   ],
   "source": [
    "news.head()\n"
   ]
  },
  {
   "cell_type": "code",
   "execution_count": 6,
   "id": "1d0e4bbd",
   "metadata": {},
   "outputs": [
    {
     "data": {
      "text/html": [
       "<div>\n",
       "<style scoped>\n",
       "    .dataframe tbody tr th:only-of-type {\n",
       "        vertical-align: middle;\n",
       "    }\n",
       "\n",
       "    .dataframe tbody tr th {\n",
       "        vertical-align: top;\n",
       "    }\n",
       "\n",
       "    .dataframe thead th {\n",
       "        text-align: right;\n",
       "    }\n",
       "</style>\n",
       "<table border=\"1\" class=\"dataframe\">\n",
       "  <thead>\n",
       "    <tr style=\"text-align: right;\">\n",
       "      <th></th>\n",
       "      <th>Impression ID</th>\n",
       "      <th>User ID</th>\n",
       "      <th>Time</th>\n",
       "      <th>History</th>\n",
       "      <th>impressions</th>\n",
       "    </tr>\n",
       "  </thead>\n",
       "  <tbody>\n",
       "    <tr>\n",
       "      <th>0</th>\n",
       "      <td>1</td>\n",
       "      <td>U13740</td>\n",
       "      <td>11/11/2019 9:05:58 AM</td>\n",
       "      <td>N55189 N42782 N34694 N45794 N18445 N63302 N104...</td>\n",
       "      <td>N55689-1 N35729-0</td>\n",
       "    </tr>\n",
       "    <tr>\n",
       "      <th>1</th>\n",
       "      <td>2</td>\n",
       "      <td>U91836</td>\n",
       "      <td>11/12/2019 6:11:30 PM</td>\n",
       "      <td>N31739 N6072 N63045 N23979 N35656 N43353 N8129...</td>\n",
       "      <td>N20678-0 N39317-0 N58114-0 N20495-0 N42977-0 N...</td>\n",
       "    </tr>\n",
       "    <tr>\n",
       "      <th>2</th>\n",
       "      <td>3</td>\n",
       "      <td>U73700</td>\n",
       "      <td>11/14/2019 7:01:48 AM</td>\n",
       "      <td>N10732 N25792 N7563 N21087 N41087 N5445 N60384...</td>\n",
       "      <td>N50014-0 N23877-0 N35389-0 N49712-0 N16844-0 N...</td>\n",
       "    </tr>\n",
       "    <tr>\n",
       "      <th>3</th>\n",
       "      <td>4</td>\n",
       "      <td>U34670</td>\n",
       "      <td>11/11/2019 5:28:05 AM</td>\n",
       "      <td>N45729 N2203 N871 N53880 N41375 N43142 N33013 ...</td>\n",
       "      <td>N35729-0 N33632-0 N49685-1 N27581-0</td>\n",
       "    </tr>\n",
       "    <tr>\n",
       "      <th>4</th>\n",
       "      <td>5</td>\n",
       "      <td>U8125</td>\n",
       "      <td>11/12/2019 4:11:21 PM</td>\n",
       "      <td>N10078 N56514 N14904 N33740</td>\n",
       "      <td>N39985-0 N36050-0 N16096-0 N8400-1 N22407-0 N6...</td>\n",
       "    </tr>\n",
       "  </tbody>\n",
       "</table>\n",
       "</div>"
      ],
      "text/plain": [
       "   Impression ID User ID                   Time  \\\n",
       "0              1  U13740  11/11/2019 9:05:58 AM   \n",
       "1              2  U91836  11/12/2019 6:11:30 PM   \n",
       "2              3  U73700  11/14/2019 7:01:48 AM   \n",
       "3              4  U34670  11/11/2019 5:28:05 AM   \n",
       "4              5   U8125  11/12/2019 4:11:21 PM   \n",
       "\n",
       "                                             History  \\\n",
       "0  N55189 N42782 N34694 N45794 N18445 N63302 N104...   \n",
       "1  N31739 N6072 N63045 N23979 N35656 N43353 N8129...   \n",
       "2  N10732 N25792 N7563 N21087 N41087 N5445 N60384...   \n",
       "3  N45729 N2203 N871 N53880 N41375 N43142 N33013 ...   \n",
       "4                        N10078 N56514 N14904 N33740   \n",
       "\n",
       "                                         impressions  \n",
       "0                                  N55689-1 N35729-0  \n",
       "1  N20678-0 N39317-0 N58114-0 N20495-0 N42977-0 N...  \n",
       "2  N50014-0 N23877-0 N35389-0 N49712-0 N16844-0 N...  \n",
       "3                N35729-0 N33632-0 N49685-1 N27581-0  \n",
       "4  N39985-0 N36050-0 N16096-0 N8400-1 N22407-0 N6...  "
      ]
     },
     "execution_count": 6,
     "metadata": {},
     "output_type": "execute_result"
    }
   ],
   "source": [
    "behaviors.head()"
   ]
  },
  {
   "cell_type": "markdown",
   "id": "ce07b606",
   "metadata": {},
   "source": [
    "## Analysis:"
   ]
  },
  {
   "cell_type": "code",
   "execution_count": 21,
   "id": "9d5b709b",
   "metadata": {},
   "outputs": [
    {
     "name": "stdout",
     "output_type": "stream",
     "text": [
      "there are 51282 different news articles in the training set\n",
      "there are 50000 different users in the training set\n"
     ]
    }
   ],
   "source": [
    "temp = len(news['News ID'].values)\n",
    "print(f'there are {temp} different news articles in the training set')\n",
    "temp = len(np.unique(behaviors['User ID'].values))\n",
    "print(f'there are {temp} different users in the training set')"
   ]
  },
  {
   "cell_type": "code",
   "execution_count": 24,
   "id": "2587b42e",
   "metadata": {},
   "outputs": [],
   "source": [
    "time_list = behaviors['Time'].values"
   ]
  },
  {
   "cell_type": "code",
   "execution_count": 35,
   "id": "9ec4598e",
   "metadata": {},
   "outputs": [
    {
     "name": "stdout",
     "output_type": "stream",
     "text": [
      "The different news categories:\n",
      "['autos' 'entertainment' 'finance' 'foodanddrink' 'health' 'kids'\n",
      " 'lifestyle' 'middleeast' 'movies' 'music' 'news' 'northamerica' 'sports'\n",
      " 'travel' 'tv' 'video' 'weather']\n"
     ]
    },
    {
     "data": {
      "text/plain": [
       "Text(0.5, 1.0, 'Category Histogram')"
      ]
     },
     "execution_count": 35,
     "metadata": {},
     "output_type": "execute_result"
    },
    {
     "data": {
      "image/png": "[encoded data removed]",
      "text/plain": [
       "<Figure size 432x288 with 1 Axes>"
      ]
     },
     "metadata": {
      "needs_background": "light"
     },
     "output_type": "display_data"
    }
   ],
   "source": [
    "category_list = news['Category'].values\n",
    "print('The different news categories:')\n",
    "print(np.unique(category_list))\n",
    "\n",
    "sns.histplot(category_list)\n",
    "plt.xticks(rotation=45, ha='right')\n",
    "plt.title('Category Histogram')\n",
    "plt.show()"
   ]
  },
  {
   "cell_type": "code",
   "execution_count": 37,
   "id": "d42074e2",
   "metadata": {},
   "outputs": [
    {
     "name": "stdout",
     "output_type": "stream",
     "text": [
      "The different news subcategories:\n",
      "['ads-latingrammys' 'ads-lung-health' 'advice' 'animals' 'autosbuying'\n",
      " 'autoscartech' 'autosclassics' 'autoscompact' 'autosenthusiasts'\n",
      " 'autoshybrids' 'autoslosangeles' 'autosluxury' 'autosmidsize'\n",
      " 'autosmotorcycles' 'autosnews' 'autosownership' 'autospassenger'\n",
      " 'autosresearch' 'autosresearchguides' 'autosreview' 'autossema'\n",
      " 'autossports' 'autossuvs' 'autostokyo' 'autostrucks' 'autosvans'\n",
      " 'autosvideonew' 'autosvideos' 'awards' 'awardstyle' 'baseball'\n",
      " 'baseball_mlb' 'baseball_mlb_videos' 'basketball_nba'\n",
      " 'basketball_nba_videos' 'basketball_ncaa' 'basketball_ncaa_videos'\n",
      " 'basketball_wnba' 'beverages' 'boxing' 'boxing-mma' 'cardio'\n",
      " 'career-news' 'causes' 'causes-animals' 'causes-disaster-relief'\n",
      " 'causes-environment' 'causes-food-insecurity' 'causes-green-living'\n",
      " 'causes-military-appreciation' 'causes-poverty' 'celebhub' 'celebrity'\n",
      " 'celebritynews' 'cma-awards' 'cocktails' 'comedy' 'company-news'\n",
      " 'cooking' 'cookingschool' 'downtime' 'elections-2020-us'\n",
      " 'empowering-the-planet' 'entertainment-books' 'entertainment-celebrity'\n",
      " 'entertainmentmusic' 'entertainmenttv' 'factcheck'\n",
      " 'finance-auto-insurance' 'finance-billstopay' 'finance-career'\n",
      " 'finance-career-education' 'finance-companies' 'finance-credit'\n",
      " 'finance-education' 'finance-healthcare' 'finance-home-loans'\n",
      " 'finance-homesandpropertysection' 'finance-insidetheticker'\n",
      " 'finance-insurance' 'finance-mutual-funds' 'finance-real-estate'\n",
      " 'finance-retirement' 'finance-savemoney' 'finance-saving-investing'\n",
      " 'finance-small-business' 'finance-startinvesting' 'finance-taxes'\n",
      " 'finance-technology' 'finance-top-stocks' 'finance-video' 'financenews'\n",
      " 'fitness' 'foodanddrink' 'foodnews' 'foodrecipes' 'foodtips'\n",
      " 'football_ncaa' 'football_ncaa_videos' 'football_nfl'\n",
      " 'football_nfl_videos' 'fun' 'games' 'gaming' 'golf' 'golfvideos'\n",
      " 'halloween' 'health-cancer' 'health-news' 'healthagingwell' 'healthnews'\n",
      " 'healthyliving' 'holidays' 'hollywood' 'humor' 'icehockey_nhl' 'indepth'\n",
      " 'internationaltravel' 'lifestyle' 'lifestyle-news-feature'\n",
      " 'lifestyle-wedding' 'lifestylebeauty' 'lifestylebuzz' 'lifestylecareer'\n",
      " 'lifestylecelebstyle' 'lifestylecleaningandorganizing' 'lifestyledecor'\n",
      " 'lifestyledidyouknow' 'lifestylediy' 'lifestylefamily'\n",
      " 'lifestylefamilyandrelationships' 'lifestylefashion'\n",
      " 'lifestylehomeandgarden' 'lifestylehoroscope' 'lifestylehoroscopefish'\n",
      " 'lifestylelovesex' 'lifestylemarriage' 'lifestylemindandsoul'\n",
      " 'lifestyleparenting' 'lifestylepets' 'lifestylepetsanimals'\n",
      " 'lifestylerelationships' 'lifestyleroyals' 'lifestyleshopping'\n",
      " 'lifestyleshoppinghomegarden' 'lifestylesmartliving' 'lifestylestyle'\n",
      " 'lifestylevideo' 'lifestyleweddings' 'lifestylewhatshot' 'markets'\n",
      " 'medical' 'mentalhealth' 'middleeast-top-stories' 'mma' 'mmaufc'\n",
      " 'more_sports' 'movienews' 'movies-awards' 'movies-celebrity'\n",
      " 'movies-gallery' 'movies-oscars' 'movievideo' 'music-awards'\n",
      " 'music-celebrity' 'music-gallery' 'music-grammys' 'music-reviews'\n",
      " 'musicnews' 'musicvideos' 'narendramodi_opinion' 'news' 'newsbusiness'\n",
      " 'newscrime' 'newselection2020' 'newsfactcheck' 'newsgoodnews'\n",
      " 'newsnational' 'newsoffbeat' 'newsopinion' 'newsother' 'newsphotos'\n",
      " 'newspolitics' 'newsrealestate' 'newsscience' 'newsscienceandtechnology'\n",
      " 'newstrends' 'newstvmedia' 'newsus' 'newsvideo' 'newsweather' 'newsworld'\n",
      " 'newsworldpolitics' 'northamerica-video' 'nutrition' 'olympics-videos'\n",
      " 'othersports' 'outdoors' 'people-places' 'peopleandplaces'\n",
      " 'personalfinance' 'photos' 'popculture' 'pregnancyparenting'\n",
      " 'quickandeasy' 'racing' 'recipes' 'relationships' 'restaurantsandnews'\n",
      " 'retirement' 'reviews' 'science' 'seasonal' 'shop-all' 'shop-apparel'\n",
      " 'shop-books-movies-tv' 'shop-holidays' 'shop-home-goods' 'soccer'\n",
      " 'soccer_bund' 'soccer_epl' 'soccer_mls' 'spendingandborrowing' 'sports'\n",
      " 'sports_news' 'strength' 'technologyinvesting' 'tennis' 'tennis_intl'\n",
      " 'tipsandtricks' 'topnews' 'travel' 'travel-adventure-travel'\n",
      " 'travel-points-rewards' 'travel-videos' 'travelarticle' 'travelnews'\n",
      " 'traveltips' 'traveltripideas' 'traveltrivia' 'tunedin' 'tv'\n",
      " 'tv-celebrity' 'tv-gallery' 'tv-golden-globes' 'tv-golden-globes-video'\n",
      " 'tv-recaps' 'tv-reviews' 'tvnews' 'tvvideos' 'ustravel' 'video' 'videos'\n",
      " 'viral' 'voices' 'watch' 'weatherfullscreenmaps' 'weathertopstories'\n",
      " 'weight-loss' 'weightloss' 'wellness' 'wines' 'wonder'\n",
      " 'yearinoffbeatgoodnews']\n"
     ]
    }
   ],
   "source": [
    "subcategory_list = news['SubCategory'].values\n",
    "print('The different news subcategories:')\n",
    "print(np.unique(subcategory_list))\n"
   ]
  },
  {
   "cell_type": "markdown",
   "id": "047a2c76",
   "metadata": {},
   "source": [
    "#### Examining the different subcategories in the 'News' Category:\n"
   ]
  },
  {
   "cell_type": "code",
   "execution_count": 43,
   "id": "304dc263",
   "metadata": {},
   "outputs": [
    {
     "name": "stdout",
     "output_type": "stream",
     "text": [
      "the different subcategories under the news category:\n",
      "['causes' 'causes-disaster-relief' 'causes-environment'\n",
      " 'causes-military-appreciation' 'causes-poverty' 'elections-2020-us'\n",
      " 'empowering-the-planet' 'factcheck' 'indepth' 'narendramodi_opinion'\n",
      " 'newsbusiness' 'newscrime' 'newselection2020' 'newsfactcheck'\n",
      " 'newsgoodnews' 'newsnational' 'newsoffbeat' 'newsopinion' 'newsother'\n",
      " 'newsphotos' 'newspolitics' 'newsrealestate' 'newsscience'\n",
      " 'newsscienceandtechnology' 'newstvmedia' 'newsus' 'newsvideo'\n",
      " 'newsweather' 'newsworld' 'newsworldpolitics' 'personalfinance' 'photos'\n",
      " 'yearinoffbeatgoodnews']\n"
     ]
    },
    {
     "data": {
      "text/plain": [
       "Text(0.5, 1.0, 'News SubCategory Histogram')"
      ]
     },
     "execution_count": 43,
     "metadata": {},
     "output_type": "execute_result"
    },
    {
     "data": {
      "image/png": "[encoded data removed]",
      "text/plain": [
       "<Figure size 720x432 with 1 Axes>"
      ]
     },
     "metadata": {
      "needs_background": "light"
     },
     "output_type": "display_data"
    }
   ],
   "source": [
    "subcategory_list = news[news['Category'] == 'news']['SubCategory'].values\n",
    "print(f'the different subcategories under the news category:')\n",
    "print(np.unique(subcategory_list))\n",
    "\n",
    "plt.figure(figsize=(10,6))\n",
    "sns.histplot(subcategory_list)\n",
    "plt.xticks(rotation=45, ha='right')\n",
    "plt.title('News SubCategory Histogram')\n",
    "plt.show()"
   ]
  },
  {
   "cell_type": "markdown",
   "id": "a48311cd",
   "metadata": {},
   "source": [
    "#### examining the news shown to each user:"
   ]
  },
  {
   "cell_type": "code",
   "execution_count": 54,
   "id": "f0e10d8e",
   "metadata": {},
   "outputs": [],
   "source": [
    "temp = behaviors['History'].values\n",
    "histories = []\n",
    "for x in temp:\n",
    "    try:\n",
    "        histories.append(x.split(' '))\n",
    "    except:\n",
    "        histories.append(x)"
   ]
  },
  {
   "cell_type": "code",
   "execution_count": 55,
   "id": "cf8553fe",
   "metadata": {},
   "outputs": [],
   "source": [
    "histories_len = []\n",
    "for x in temp:\n",
    "    try:\n",
    "        histories_len.append(len(x))\n",
    "    except:\n",
    "        histories_len.append(0)"
   ]
  },
  {
   "cell_type": "code",
   "execution_count": 69,
   "id": "3dd6a515",
   "metadata": {},
   "outputs": [
    {
     "data": {
      "text/plain": [
       "(220.90456471187844, 129.0)"
      ]
     },
     "execution_count": 69,
     "metadata": {},
     "output_type": "execute_result"
    }
   ],
   "source": [
    "np.mean(histories_len), np.median(histories_len)"
   ]
  },
  {
   "cell_type": "code",
   "execution_count": 60,
   "id": "acc69969",
   "metadata": {},
   "outputs": [
    {
     "data": {
      "image/png": "[encoded data removed]",
      "text/plain": [
       "<Figure size 720x432 with 1 Axes>"
      ]
     },
     "metadata": {
      "needs_background": "light"
     },
     "output_type": "display_data"
    }
   ],
   "source": [
    "plt.figure(figsize=(10,6))\n",
    "sns.histplot(histories_len)\n",
    "plt.title('Histogram of number of news articles showed')\n",
    "plt.show()"
   ]
  },
  {
   "cell_type": "markdown",
   "id": "47bc259f",
   "metadata": {},
   "source": [
    "#### Examining how many news articles did each user click on (in relation to those shown to him)"
   ]
  },
  {
   "cell_type": "code",
   "execution_count": 62,
   "id": "d712c16c",
   "metadata": {},
   "outputs": [],
   "source": [
    "temp = behaviors['impressions'].values\n",
    "impressions_list = []\n",
    "for x in temp:\n",
    "    impressions_list.append(x.split(' '))"
   ]
  },
  {
   "cell_type": "code",
   "execution_count": 66,
   "id": "277d6093",
   "metadata": {},
   "outputs": [],
   "source": [
    "read_list = []\n",
    "for x in impressions_list:\n",
    "    tot_read = 0\n",
    "    for y in x:\n",
    "        tot_read+=int(y.split('-')[1])\n",
    "    read_list.append(tot_read/len(x))"
   ]
  },
  {
   "cell_type": "code",
   "execution_count": 68,
   "id": "78e4889a",
   "metadata": {},
   "outputs": [
    {
     "data": {
      "image/png": "[encoded data removed]",
      "text/plain": [
       "<Figure size 720x432 with 1 Axes>"
      ]
     },
     "metadata": {
      "needs_background": "light"
     },
     "output_type": "display_data"
    }
   ],
   "source": [
    "plt.figure(figsize=(10,6))\n",
    "sns.histplot(read_list)\n",
    "plt.title('Histogram of proportion of news articles clicked')\n",
    "plt.show()"
   ]
  },
  {
   "cell_type": "code",
   "execution_count": null,
   "id": "0bb0bd60",
   "metadata": {},
   "outputs": [],
   "source": []
  },
  {
   "cell_type": "code",
   "execution_count": null,
   "id": "0c74cb88",
   "metadata": {},
   "outputs": [],
   "source": []
  },
  {
   "cell_type": "code",
   "execution_count": null,
   "id": "b6c27b81",
   "metadata": {},
   "outputs": [],
   "source": []
  }
 ],
 "metadata": {
  "kernelspec": {
   "display_name": "Python 3",
   "language": "python",
   "name": "python3"
  },
  "language_info": {
   "codemirror_mode": {
    "name": "ipython",
    "version": 3
   },
   "file_extension": ".py",
   "mimetype": "text/x-python",
   "name": "python",
   "nbconvert_exporter": "python",
   "pygments_lexer": "ipython3",
   "version": "3.8.2"
  }
 },
 "nbformat": 4,
 "nbformat_minor": 5
}
