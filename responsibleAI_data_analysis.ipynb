{
 "cells": [
  {
   "cell_type": "markdown",
   "id": "8b9a495b",
   "metadata": {},
   "source": [
    "based on the following notebooks:\n",
    "https://www.kaggle.com/code/eunicemok/recommendation-engine-that-combats-polarization\n",
    "\n",
    "In the notebook two datasets were used:\n",
    "1. CI&T whichi includes for each user with articles he interacted with - 'BOOKMARK', 'COMMENT CREATED', 'FOLLOW', 'LIKE', 'VIEW'\n",
    "2. All the News - which includes information about difference news articles and their source.\n",
    "\n",
    "In the notebook they used the source of the article (the website it was publised on) to determain the political view of the article (left, neutral, right). Then a model was trained (TD-IDF) based on the content of the articles in order to learn to classify the view of each article.\n",
    "Using this model, we can classify the views of all the articles the user interacted with and that way see what his general views are."
   ]
  },
  {
   "cell_type": "code",
   "execution_count": null,
   "id": "c4d6a753",
   "metadata": {},
   "outputs": [],
   "source": [
    "import pandas as pd\n",
    "from zipfile import ZipFile\n",
    "import numpy as np\n",
    "import seaborn as sns\n",
    "from matplotlib import pyplot as plt"
   ]
  },
  {
   "cell_type": "markdown",
   "id": "e08f446e",
   "metadata": {},
   "source": [
    "### Load Data:"
   ]
  },
  {
   "cell_type": "code",
   "execution_count": null,
   "id": "7389f356",
   "metadata": {},
   "outputs": [],
   "source": [
    "# update releavent path\n",
    "path = 'C:/Users/gony/Downloads/CI&T.zip'"
   ]
  },
  {
   "cell_type": "code",
   "execution_count": null,
   "id": "d93a401b",
   "metadata": {},
   "outputs": [],
   "source": [
    "dfs = {}\n",
    "with ZipFile(path, \"r\") as f:\n",
    "    for name in f.namelist():\n",
    "        with f.open(name) as zd:\n",
    "            print(name)\n",
    "            df = pd.read_csv(zd, encoding='utf8')\n",
    "            dfs[name] = df\n",
    "users_intrcs = dfs['users_interactions.csv']\n",
    "shared_articles = dfs['shared_articles.csv']"
   ]
  },
  {
   "cell_type": "code",
   "execution_count": null,
   "id": "a610765d",
   "metadata": {},
   "outputs": [],
   "source": [
    "# update releavent path\n",
    "path = 'C:/Users/gony/Downloads/All_the_News.zip'"
   ]
  },
  {
   "cell_type": "code",
   "execution_count": null,
   "id": "3b8254ae",
   "metadata": {},
   "outputs": [],
   "source": [
    "dfs = pd.DataFrame()\n",
    "with ZipFile(path, \"r\") as f:\n",
    "    for name in f.namelist():\n",
    "#         if name == 'articles2.csv':\n",
    "#             continue\n",
    "        with f.open(name) as zd:\n",
    "            print(name)\n",
    "            df = pd.read_csv(zd, index_col=False)\n",
    "            dfs = pd.concat([dfs, df])\n",
    "            del [df]\n",
    "# articles = pd.concat([dfs['articles1.csv'], dfs['articles3.csv']], ignore_index=True)"
   ]
  },
  {
   "cell_type": "code",
   "execution_count": null,
   "id": "a81bac73",
   "metadata": {},
   "outputs": [],
   "source": [
    "# update releavent path\n",
    "path = 'C:/Users/gony/Downloads/MINDsmall_train.zip'\n",
    "\n",
    "dfs = {}\n",
    "with ZipFile(path, \"r\") as f:\n",
    "    for name in f.namelist():\n",
    "        if name.endswith('.tsv'):\n",
    "            with f.open(name) as zd:\n",
    "                if name == 'news.tsv':\n",
    "                    columns = ['News ID',\n",
    "                                \"Category\",\n",
    "                                \"SubCategory\",\n",
    "                                \"Title\",\n",
    "                                \"Abstract\",\n",
    "                                \"URL\",\n",
    "                                \"Title Entities\",\n",
    "                                \"Abstract Entities \"]\n",
    "                elif name == 'behaviors.tsv':\n",
    "                    columns = ['Impression ID',\n",
    "                              'User ID',\n",
    "                              'Time',\n",
    "                              'History',\n",
    "                              'impressions']\n",
    "                print(name)\n",
    "                df = pd.read_csv(zd, encoding='utf8', sep = '\\t', \n",
    "                                 header=None, names=columns)\n",
    "                dfs[name] = df\n",
    "behaviors = dfs[\"behaviors.tsv\"]\n",
    "news = dfs['news.tsv']"
   ]
  },
  {
   "cell_type": "code",
   "execution_count": null,
   "id": "40e45abc",
   "metadata": {},
   "outputs": [],
   "source": [
    "news.head()"
   ]
  },
  {
   "cell_type": "code",
   "execution_count": null,
   "id": "c86b26df",
   "metadata": {},
   "outputs": [],
   "source": [
    "news['Abstract'].values[0]"
   ]
  },
  {
   "cell_type": "code",
   "execution_count": null,
   "id": "63e15e90",
   "metadata": {},
   "outputs": [],
   "source": [
    "users_intrcs.head()"
   ]
  },
  {
   "cell_type": "code",
   "execution_count": null,
   "id": "31f3b7e2",
   "metadata": {},
   "outputs": [],
   "source": [
    "users_intrcs.info()"
   ]
  },
  {
   "cell_type": "code",
   "execution_count": null,
   "id": "b1eaf58c",
   "metadata": {},
   "outputs": [],
   "source": [
    "np.unique(users_intrcs['eventType'].values)"
   ]
  },
  {
   "cell_type": "code",
   "execution_count": null,
   "id": "1755496c",
   "metadata": {},
   "outputs": [],
   "source": [
    "shared_articles.head()"
   ]
  },
  {
   "cell_type": "code",
   "execution_count": null,
   "id": "e0492dda",
   "metadata": {},
   "outputs": [],
   "source": [
    "shared_articles.info()"
   ]
  },
  {
   "cell_type": "code",
   "execution_count": null,
   "id": "b77282c7",
   "metadata": {},
   "outputs": [],
   "source": [
    "np.unique(shared_articles['eventType'].values)"
   ]
  },
  {
   "cell_type": "code",
   "execution_count": null,
   "id": "1d0e4bbd",
   "metadata": {},
   "outputs": [],
   "source": [
    "articles.head()"
   ]
  },
  {
   "cell_type": "code",
   "execution_count": null,
   "id": "12c18220",
   "metadata": {},
   "outputs": [],
   "source": [
    "articles.info()"
   ]
  },
  {
   "cell_type": "markdown",
   "id": "ce07b606",
   "metadata": {},
   "source": [
    "## Analysis:"
   ]
  },
  {
   "cell_type": "code",
   "execution_count": null,
   "id": "0bb0bd60",
   "metadata": {},
   "outputs": [],
   "source": [
    "articles = articles.rename(columns = {'Unnamed: 0': 'number'})\n"
   ]
  },
  {
   "cell_type": "code",
   "execution_count": null,
   "id": "0a66e696",
   "metadata": {},
   "outputs": [],
   "source": [
    "for column in articles:\n",
    "    Y = articles['publication']\n",
    "Y.head()"
   ]
  },
  {
   "cell_type": "code",
   "execution_count": null,
   "id": "d663bc24",
   "metadata": {},
   "outputs": [],
   "source": [
    "np.unique(Y.values)"
   ]
  },
  {
   "cell_type": "markdown",
   "id": "524482ad",
   "metadata": {},
   "source": [
    "Categorizing article based on the publisher:"
   ]
  },
  {
   "cell_type": "code",
   "execution_count": null,
   "id": "0c74cb88",
   "metadata": {},
   "outputs": [],
   "source": [
    "for ind in range(len(Y)-1):\n",
    "  if Y[ind] =='New York Times' or Y[ind] == 'CNN' or Y[ind] == 'Buzzfeed News' or Y[ind] =='Business Insider' or Y[ind] =='the Atlantic' or Y[ind] =='Talking Points Memo' or Y[ind] =='the Guardian' or Y[ind] == 'Vox' or Y[ind] =='Washington Post':\n",
    "    articles.at[ind,'Lean'] = 'Left'\n",
    "    \n",
    "\n",
    "  elif Y[ind] == 'NPR' or Y[ind] == 'Reuters':\n",
    "    articles.at[ind,'Lean'] = 'Neutral'\n",
    "\n",
    "  else:\n",
    "    articles.at[ind,'Lean'] = 'Right'"
   ]
  },
  {
   "cell_type": "code",
   "execution_count": null,
   "id": "b6c27b81",
   "metadata": {},
   "outputs": [],
   "source": [
    "target = articles.groupby([\"Lean\"]).count()\n",
    "percent_target = (target/len(articles))*100\n",
    "percent_target"
   ]
  },
  {
   "cell_type": "code",
   "execution_count": null,
   "id": "a7829202",
   "metadata": {},
   "outputs": [],
   "source": [
    "articles.groupby([\"Lean\"]).Lean.count().plot.bar(ylim = 0)\n",
    "plt.show"
   ]
  },
  {
   "cell_type": "markdown",
   "id": "18af94c6",
   "metadata": {},
   "source": [
    "Training model to clasify the lean:"
   ]
  },
  {
   "cell_type": "code",
   "execution_count": null,
   "id": "2f569c02",
   "metadata": {},
   "outputs": [],
   "source": [
    "from sklearn.feature_extraction.text import TfidfVectorizer\n",
    "import sklearn\n",
    "from sklearn.multiclass import OneVsRestClassifier   #1vs1 & 1vsRest Classifiers\n",
    "from sklearn.linear_model import PassiveAggressiveClassifier\n",
    "from sklearn.model_selection import train_test_split\n",
    "from sklearn.metrics import accuracy_score\n",
    "\n",
    "import gc"
   ]
  },
  {
   "cell_type": "code",
   "execution_count": null,
   "id": "5e90fdff",
   "metadata": {},
   "outputs": [],
   "source": [
    "# take random sample of articles\n",
    "sample = articles.sample(n= 10000, random_state = 1)\n",
    "y = sample['Lean']\n",
    "X = sample['content']"
   ]
  },
  {
   "cell_type": "code",
   "execution_count": null,
   "id": "86b507be",
   "metadata": {},
   "outputs": [],
   "source": [
    "vectorizer = TfidfVectorizer(stop_words='english', max_df=0.7)\n",
    "df_tfIdf = vectorizer.fit_transform(X.values)\n",
    "# print(vectorizer.get_feature_names()[:10])\n",
    "  \n",
    "X_train, X_val, y_train, y_val = train_test_split(df_tfIdf, y, test_size=0.10, random_state=1, shuffle=True)\n",
    "X_train.shape, X_val.shape, y_train.shape,y_val.shape\n",
    "\n",
    "model = PassiveAggressiveClassifier(max_iter=10000, random_state=1,tol=1e-3).fit(X_train, y_train)\n",
    "y_pred = model.predict(X_val)"
   ]
  },
  {
   "cell_type": "code",
   "execution_count": null,
   "id": "6172447a",
   "metadata": {},
   "outputs": [],
   "source": [
    "from sklearn.metrics import confusion_matrix, ConfusionMatrixDisplay\n",
    "cm = confusion_matrix(y_val,y_pred)\n",
    "cm_display = ConfusionMatrixDisplay(confusion_matrix = cm, display_labels = ['Left', 'Neutral', 'Right'])\n",
    "\n",
    "cm_display.plot()\n",
    "plt.show()"
   ]
  },
  {
   "cell_type": "code",
   "execution_count": null,
   "id": "171cafb2",
   "metadata": {},
   "outputs": [],
   "source": [
    "print('accuracy of model: ', sum(y_val == y_pred)/len(y_val))"
   ]
  },
  {
   "cell_type": "code",
   "execution_count": null,
   "id": "acc3623c",
   "metadata": {},
   "outputs": [],
   "source": [
    "x_test = shared_articles['text']\n",
    "y_test = model.predict(vectorizer.transform(x_test.values))"
   ]
  },
  {
   "cell_type": "code",
   "execution_count": null,
   "id": "5179900b",
   "metadata": {},
   "outputs": [],
   "source": [
    "shared_articles['Lean'] = y_test"
   ]
  },
  {
   "cell_type": "code",
   "execution_count": null,
   "id": "8d247324",
   "metadata": {},
   "outputs": [],
   "source": [
    "shared_articles.groupby([\"Lean\"]).Lean.count().plot.bar(ylim = 0)\n",
    "plt.show"
   ]
  },
  {
   "cell_type": "code",
   "execution_count": null,
   "id": "4a2c4452",
   "metadata": {},
   "outputs": [],
   "source": [
    "df = users_intrcs.copy()"
   ]
  },
  {
   "cell_type": "markdown",
   "id": "4a00673b",
   "metadata": {},
   "source": [
    "Can someone check my merge logic? (always confuses me)"
   ]
  },
  {
   "cell_type": "code",
   "execution_count": null,
   "id": "54b659d2",
   "metadata": {},
   "outputs": [],
   "source": [
    "df = pd.merge(df, shared_articles, left_on='contentId', right_on='contentId', how='inner')"
   ]
  },
  {
   "cell_type": "code",
   "execution_count": null,
   "id": "b6483208",
   "metadata": {},
   "outputs": [],
   "source": [
    "groupby_user = df.groupby('personId', as_index=False).agg({'Lean':lambda x: list(x), 'eventType_x':lambda x: list(x)})"
   ]
  },
  {
   "cell_type": "code",
   "execution_count": null,
   "id": "65090101",
   "metadata": {},
   "outputs": [],
   "source": [
    "groupby_user.head()"
   ]
  },
  {
   "cell_type": "code",
   "execution_count": null,
   "id": "08bc3669",
   "metadata": {},
   "outputs": [],
   "source": [
    "temp = groupby_user['Lean']\n"
   ]
  },
  {
   "cell_type": "code",
   "execution_count": null,
   "id": "0e98fa73",
   "metadata": {
    "scrolled": true
   },
   "outputs": [],
   "source": [
    "for i in range(len(temp)):\n",
    "    leans = temp[i]\n",
    "    left, right, neutral = 0, 0, 0\n",
    "    for x in leans:\n",
    "        if x == 'Left':\n",
    "            left += 1\n",
    "        elif x == 'Right':\n",
    "            right += 1\n",
    "        else:\n",
    "            neutral += 1\n",
    "    groupby_user.at[i, 'Left'] = left/len(leans)\n",
    "    groupby_user.at[i, 'Neutral'] = neutral/len(leans)\n",
    "    groupby_user.at[i, 'Right'] = right/len(leans)\n"
   ]
  },
  {
   "cell_type": "code",
   "execution_count": null,
   "id": "07856cab",
   "metadata": {},
   "outputs": [],
   "source": [
    "groupby_user.head()"
   ]
  },
  {
   "cell_type": "code",
   "execution_count": null,
   "id": "79c59e5b",
   "metadata": {},
   "outputs": [],
   "source": [
    "plt.hist(groupby_user.iloc[0].Lean)\n",
    "plt.show()"
   ]
  },
  {
   "cell_type": "code",
   "execution_count": null,
   "id": "ca887344",
   "metadata": {},
   "outputs": [],
   "source": [
    "import seaborn as sns\n",
    "lean_sample = groupby_user.sample(n= 30, random_state = 1)\n"
   ]
  },
  {
   "cell_type": "code",
   "execution_count": null,
   "id": "d279d82f",
   "metadata": {},
   "outputs": [],
   "source": [
    "plt.figure(figsize=(10,6))\n",
    "sns.heatmap(lean_sample[['Right', 'Neutral', 'Left']], annot=True)\n",
    "plt.show()"
   ]
  },
  {
   "cell_type": "code",
   "execution_count": null,
   "id": "9797ce23",
   "metadata": {},
   "outputs": [],
   "source": [
    "left, right, neutral = [], [], []\n",
    "for i, row in groupby_user.iterrows():\n",
    "    if row['Left'] >=0.6:\n",
    "        left.append(row['Left'])\n",
    "    elif row['Right'] >=0.6:\n",
    "        right.append(row['Right'])\n",
    "    else:\n",
    "        neutral.append(row['Neutral'])"
   ]
  },
  {
   "cell_type": "code",
   "execution_count": null,
   "id": "9707e398",
   "metadata": {},
   "outputs": [],
   "source": [
    "len(left), len(right), len(neutral)"
   ]
  },
  {
   "cell_type": "code",
   "execution_count": null,
   "id": "4c287cbe",
   "metadata": {},
   "outputs": [],
   "source": [
    "plt.hist(left)\n",
    "plt.title('Histogram of users who lean to Left articles')\n",
    "plt.show()\n",
    "plt.hist(right)\n",
    "plt.title('Histogram of users who lean to Right articles')\n",
    "plt.show()\n",
    "plt.hist(neutral)\n",
    "plt.title('Histogram of users who lean to Neutral articles')\n",
    "plt.show()"
   ]
  },
  {
   "cell_type": "code",
   "execution_count": null,
   "id": "5b257083",
   "metadata": {},
   "outputs": [],
   "source": []
  }
 ],
 "metadata": {
  "kernelspec": {
   "display_name": "Python 3",
   "language": "python",
   "name": "python3"
  },
  "language_info": {
   "codemirror_mode": {
    "name": "ipython",
    "version": 3
   },
   "file_extension": ".py",
   "mimetype": "text/x-python",
   "name": "python",
   "nbconvert_exporter": "python",
   "pygments_lexer": "ipython3",
   "version": "3.8.2"
  }
 },
 "nbformat": 4,
 "nbformat_minor": 5
}
